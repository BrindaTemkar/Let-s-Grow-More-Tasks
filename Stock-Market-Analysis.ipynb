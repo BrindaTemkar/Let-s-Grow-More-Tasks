{
 "cells": [
  {
   "cell_type": "markdown",
   "metadata": {},
   "source": [
    "## Brinda Temkar\n",
    "## Stock Market Prediction And Forecasting Using Stacked LSTM\n",
    "### Beginner Level: Task 2"
   ]
  },
  {
   "cell_type": "code",
   "execution_count": 78,
   "metadata": {},
   "outputs": [],
   "source": [
    "import pandas as pd\n",
    "import numpy as np\n",
    "import os\n",
    "import matplotlib.pyplot as plt"
   ]
  },
  {
   "cell_type": "code",
   "execution_count": 79,
   "metadata": {},
   "outputs": [
    {
     "data": {
      "text/html": [
       "<div>\n",
       "<style scoped>\n",
       "    .dataframe tbody tr th:only-of-type {\n",
       "        vertical-align: middle;\n",
       "    }\n",
       "\n",
       "    .dataframe tbody tr th {\n",
       "        vertical-align: top;\n",
       "    }\n",
       "\n",
       "    .dataframe thead th {\n",
       "        text-align: right;\n",
       "    }\n",
       "</style>\n",
       "<table border=\"1\" class=\"dataframe\">\n",
       "  <thead>\n",
       "    <tr style=\"text-align: right;\">\n",
       "      <th></th>\n",
       "      <th>Date</th>\n",
       "      <th>Open</th>\n",
       "      <th>High</th>\n",
       "      <th>Low</th>\n",
       "      <th>Last</th>\n",
       "      <th>Close</th>\n",
       "      <th>Total Trade Quantity</th>\n",
       "      <th>Turnover (Lacs)</th>\n",
       "    </tr>\n",
       "  </thead>\n",
       "  <tbody>\n",
       "    <tr>\n",
       "      <th>0</th>\n",
       "      <td>2018-09-28</td>\n",
       "      <td>234.05</td>\n",
       "      <td>235.95</td>\n",
       "      <td>230.20</td>\n",
       "      <td>233.50</td>\n",
       "      <td>233.75</td>\n",
       "      <td>3069914</td>\n",
       "      <td>7162.35</td>\n",
       "    </tr>\n",
       "    <tr>\n",
       "      <th>1</th>\n",
       "      <td>2018-09-27</td>\n",
       "      <td>234.55</td>\n",
       "      <td>236.80</td>\n",
       "      <td>231.10</td>\n",
       "      <td>233.80</td>\n",
       "      <td>233.25</td>\n",
       "      <td>5082859</td>\n",
       "      <td>11859.95</td>\n",
       "    </tr>\n",
       "    <tr>\n",
       "      <th>2</th>\n",
       "      <td>2018-09-26</td>\n",
       "      <td>240.00</td>\n",
       "      <td>240.00</td>\n",
       "      <td>232.50</td>\n",
       "      <td>235.00</td>\n",
       "      <td>234.25</td>\n",
       "      <td>2240909</td>\n",
       "      <td>5248.60</td>\n",
       "    </tr>\n",
       "    <tr>\n",
       "      <th>3</th>\n",
       "      <td>2018-09-25</td>\n",
       "      <td>233.30</td>\n",
       "      <td>236.75</td>\n",
       "      <td>232.00</td>\n",
       "      <td>236.25</td>\n",
       "      <td>236.10</td>\n",
       "      <td>2349368</td>\n",
       "      <td>5503.90</td>\n",
       "    </tr>\n",
       "    <tr>\n",
       "      <th>4</th>\n",
       "      <td>2018-09-24</td>\n",
       "      <td>233.55</td>\n",
       "      <td>239.20</td>\n",
       "      <td>230.75</td>\n",
       "      <td>234.00</td>\n",
       "      <td>233.30</td>\n",
       "      <td>3423509</td>\n",
       "      <td>7999.55</td>\n",
       "    </tr>\n",
       "  </tbody>\n",
       "</table>\n",
       "</div>"
      ],
      "text/plain": [
       "         Date    Open    High     Low    Last   Close  Total Trade Quantity  \\\n",
       "0  2018-09-28  234.05  235.95  230.20  233.50  233.75               3069914   \n",
       "1  2018-09-27  234.55  236.80  231.10  233.80  233.25               5082859   \n",
       "2  2018-09-26  240.00  240.00  232.50  235.00  234.25               2240909   \n",
       "3  2018-09-25  233.30  236.75  232.00  236.25  236.10               2349368   \n",
       "4  2018-09-24  233.55  239.20  230.75  234.00  233.30               3423509   \n",
       "\n",
       "   Turnover (Lacs)  \n",
       "0          7162.35  \n",
       "1         11859.95  \n",
       "2          5248.60  \n",
       "3          5503.90  \n",
       "4          7999.55  "
      ]
     },
     "execution_count": 79,
     "metadata": {},
     "output_type": "execute_result"
    }
   ],
   "source": [
    "dataset = pd.read_csv('StockMarketData.csv')\n",
    "dataset.head()"
   ]
  },
  {
   "cell_type": "code",
   "execution_count": 80,
   "metadata": {},
   "outputs": [
    {
     "name": "stdout",
     "output_type": "stream",
     "text": [
      "<class 'pandas._libs.tslibs.timestamps.Timestamp'>\n"
     ]
    }
   ],
   "source": [
    "#Sort data by date\n",
    "dataset['Date'] = pd.to_datetime(dataset['Date'])\n",
    "print(type(dataset.Date[0]))"
   ]
  },
  {
   "cell_type": "code",
   "execution_count": 81,
   "metadata": {},
   "outputs": [
    {
     "data": {
      "text/html": [
       "<div>\n",
       "<style scoped>\n",
       "    .dataframe tbody tr th:only-of-type {\n",
       "        vertical-align: middle;\n",
       "    }\n",
       "\n",
       "    .dataframe tbody tr th {\n",
       "        vertical-align: top;\n",
       "    }\n",
       "\n",
       "    .dataframe thead th {\n",
       "        text-align: right;\n",
       "    }\n",
       "</style>\n",
       "<table border=\"1\" class=\"dataframe\">\n",
       "  <thead>\n",
       "    <tr style=\"text-align: right;\">\n",
       "      <th></th>\n",
       "      <th>Date</th>\n",
       "      <th>Open</th>\n",
       "      <th>High</th>\n",
       "      <th>Low</th>\n",
       "      <th>Last</th>\n",
       "      <th>Close</th>\n",
       "      <th>Total Trade Quantity</th>\n",
       "      <th>Turnover (Lacs)</th>\n",
       "    </tr>\n",
       "  </thead>\n",
       "  <tbody>\n",
       "    <tr>\n",
       "      <th>2034</th>\n",
       "      <td>2010-07-21</td>\n",
       "      <td>122.1</td>\n",
       "      <td>123.00</td>\n",
       "      <td>121.05</td>\n",
       "      <td>121.10</td>\n",
       "      <td>121.55</td>\n",
       "      <td>658666</td>\n",
       "      <td>803.56</td>\n",
       "    </tr>\n",
       "    <tr>\n",
       "      <th>2033</th>\n",
       "      <td>2010-07-22</td>\n",
       "      <td>120.3</td>\n",
       "      <td>122.00</td>\n",
       "      <td>120.25</td>\n",
       "      <td>120.75</td>\n",
       "      <td>120.90</td>\n",
       "      <td>293312</td>\n",
       "      <td>355.17</td>\n",
       "    </tr>\n",
       "    <tr>\n",
       "      <th>2032</th>\n",
       "      <td>2010-07-23</td>\n",
       "      <td>121.8</td>\n",
       "      <td>121.95</td>\n",
       "      <td>120.25</td>\n",
       "      <td>120.35</td>\n",
       "      <td>120.65</td>\n",
       "      <td>281312</td>\n",
       "      <td>340.31</td>\n",
       "    </tr>\n",
       "    <tr>\n",
       "      <th>2031</th>\n",
       "      <td>2010-07-26</td>\n",
       "      <td>120.1</td>\n",
       "      <td>121.00</td>\n",
       "      <td>117.10</td>\n",
       "      <td>117.10</td>\n",
       "      <td>117.60</td>\n",
       "      <td>658440</td>\n",
       "      <td>780.01</td>\n",
       "    </tr>\n",
       "    <tr>\n",
       "      <th>2030</th>\n",
       "      <td>2010-07-27</td>\n",
       "      <td>117.6</td>\n",
       "      <td>119.50</td>\n",
       "      <td>112.00</td>\n",
       "      <td>118.80</td>\n",
       "      <td>118.65</td>\n",
       "      <td>586100</td>\n",
       "      <td>694.98</td>\n",
       "    </tr>\n",
       "  </tbody>\n",
       "</table>\n",
       "</div>"
      ],
      "text/plain": [
       "           Date   Open    High     Low    Last   Close  Total Trade Quantity  \\\n",
       "2034 2010-07-21  122.1  123.00  121.05  121.10  121.55                658666   \n",
       "2033 2010-07-22  120.3  122.00  120.25  120.75  120.90                293312   \n",
       "2032 2010-07-23  121.8  121.95  120.25  120.35  120.65                281312   \n",
       "2031 2010-07-26  120.1  121.00  117.10  117.10  117.60                658440   \n",
       "2030 2010-07-27  117.6  119.50  112.00  118.80  118.65                586100   \n",
       "\n",
       "      Turnover (Lacs)  \n",
       "2034           803.56  \n",
       "2033           355.17  \n",
       "2032           340.31  \n",
       "2031           780.01  \n",
       "2030           694.98  "
      ]
     },
     "execution_count": 81,
     "metadata": {},
     "output_type": "execute_result"
    }
   ],
   "source": [
    "df = dataset.sort_values(by = 'Date')\n",
    "df.head()"
   ]
  },
  {
   "cell_type": "code",
   "execution_count": 82,
   "metadata": {},
   "outputs": [
    {
     "data": {
      "text/plain": [
       "(2035, 8)"
      ]
     },
     "execution_count": 82,
     "metadata": {},
     "output_type": "execute_result"
    }
   ],
   "source": [
    "dataset.shape"
   ]
  },
  {
   "cell_type": "code",
   "execution_count": 83,
   "metadata": {},
   "outputs": [],
   "source": [
    "df.reset_index(inplace = True)"
   ]
  },
  {
   "cell_type": "code",
   "execution_count": 84,
   "metadata": {},
   "outputs": [
    {
     "data": {
      "text/html": [
       "<div>\n",
       "<style scoped>\n",
       "    .dataframe tbody tr th:only-of-type {\n",
       "        vertical-align: middle;\n",
       "    }\n",
       "\n",
       "    .dataframe tbody tr th {\n",
       "        vertical-align: top;\n",
       "    }\n",
       "\n",
       "    .dataframe thead th {\n",
       "        text-align: right;\n",
       "    }\n",
       "</style>\n",
       "<table border=\"1\" class=\"dataframe\">\n",
       "  <thead>\n",
       "    <tr style=\"text-align: right;\">\n",
       "      <th></th>\n",
       "      <th>index</th>\n",
       "      <th>Date</th>\n",
       "      <th>Open</th>\n",
       "      <th>High</th>\n",
       "      <th>Low</th>\n",
       "      <th>Last</th>\n",
       "      <th>Close</th>\n",
       "      <th>Total Trade Quantity</th>\n",
       "      <th>Turnover (Lacs)</th>\n",
       "    </tr>\n",
       "  </thead>\n",
       "  <tbody>\n",
       "    <tr>\n",
       "      <th>0</th>\n",
       "      <td>2034</td>\n",
       "      <td>2010-07-21</td>\n",
       "      <td>122.1</td>\n",
       "      <td>123.00</td>\n",
       "      <td>121.05</td>\n",
       "      <td>121.10</td>\n",
       "      <td>121.55</td>\n",
       "      <td>658666</td>\n",
       "      <td>803.56</td>\n",
       "    </tr>\n",
       "    <tr>\n",
       "      <th>1</th>\n",
       "      <td>2033</td>\n",
       "      <td>2010-07-22</td>\n",
       "      <td>120.3</td>\n",
       "      <td>122.00</td>\n",
       "      <td>120.25</td>\n",
       "      <td>120.75</td>\n",
       "      <td>120.90</td>\n",
       "      <td>293312</td>\n",
       "      <td>355.17</td>\n",
       "    </tr>\n",
       "    <tr>\n",
       "      <th>2</th>\n",
       "      <td>2032</td>\n",
       "      <td>2010-07-23</td>\n",
       "      <td>121.8</td>\n",
       "      <td>121.95</td>\n",
       "      <td>120.25</td>\n",
       "      <td>120.35</td>\n",
       "      <td>120.65</td>\n",
       "      <td>281312</td>\n",
       "      <td>340.31</td>\n",
       "    </tr>\n",
       "    <tr>\n",
       "      <th>3</th>\n",
       "      <td>2031</td>\n",
       "      <td>2010-07-26</td>\n",
       "      <td>120.1</td>\n",
       "      <td>121.00</td>\n",
       "      <td>117.10</td>\n",
       "      <td>117.10</td>\n",
       "      <td>117.60</td>\n",
       "      <td>658440</td>\n",
       "      <td>780.01</td>\n",
       "    </tr>\n",
       "    <tr>\n",
       "      <th>4</th>\n",
       "      <td>2030</td>\n",
       "      <td>2010-07-27</td>\n",
       "      <td>117.6</td>\n",
       "      <td>119.50</td>\n",
       "      <td>112.00</td>\n",
       "      <td>118.80</td>\n",
       "      <td>118.65</td>\n",
       "      <td>586100</td>\n",
       "      <td>694.98</td>\n",
       "    </tr>\n",
       "  </tbody>\n",
       "</table>\n",
       "</div>"
      ],
      "text/plain": [
       "   index       Date   Open    High     Low    Last   Close  \\\n",
       "0   2034 2010-07-21  122.1  123.00  121.05  121.10  121.55   \n",
       "1   2033 2010-07-22  120.3  122.00  120.25  120.75  120.90   \n",
       "2   2032 2010-07-23  121.8  121.95  120.25  120.35  120.65   \n",
       "3   2031 2010-07-26  120.1  121.00  117.10  117.10  117.60   \n",
       "4   2030 2010-07-27  117.6  119.50  112.00  118.80  118.65   \n",
       "\n",
       "   Total Trade Quantity  Turnover (Lacs)  \n",
       "0                658666           803.56  \n",
       "1                293312           355.17  \n",
       "2                281312           340.31  \n",
       "3                658440           780.01  \n",
       "4                586100           694.98  "
      ]
     },
     "execution_count": 84,
     "metadata": {},
     "output_type": "execute_result"
    }
   ],
   "source": [
    "df.head()"
   ]
  },
  {
   "cell_type": "code",
   "execution_count": 85,
   "metadata": {},
   "outputs": [
    {
     "data": {
      "text/plain": [
       "[<matplotlib.lines.Line2D at 0x14ed48148b0>]"
      ]
     },
     "execution_count": 85,
     "metadata": {},
     "output_type": "execute_result"
    },
    {
     "data": {
      "image/png": "[encoded data removed]",
      "text/plain": [
       "<Figure size 432x288 with 1 Axes>"
      ]
     },
     "metadata": {
      "needs_background": "light"
     },
     "output_type": "display_data"
    }
   ],
   "source": [
    "plt.plot(df['Close'])"
   ]
  },
  {
   "cell_type": "code",
   "execution_count": 86,
   "metadata": {},
   "outputs": [],
   "source": [
    "df1 = df['Close']"
   ]
  },
  {
   "cell_type": "code",
   "execution_count": 87,
   "metadata": {},
   "outputs": [
    {
     "data": {
      "text/plain": [
       "array([[0.16584967],\n",
       "       [0.16319444],\n",
       "       [0.1621732 ],\n",
       "       ...,\n",
       "       [0.62622549],\n",
       "       [0.62214052],\n",
       "       [0.62418301]])"
      ]
     },
     "execution_count": 87,
     "metadata": {},
     "output_type": "execute_result"
    }
   ],
   "source": [
    "#LSTM are sensitive to scale the data theefore applying MinMax scaler\n",
    "from sklearn.preprocessing import MinMaxScaler\n",
    "scaler = MinMaxScaler(feature_range = (0,1))\n",
    "df1=scaler.fit_transform(np.array(df1).reshape(-1,1))\n",
    "df1"
   ]
  },
  {
   "cell_type": "code",
   "execution_count": 88,
   "metadata": {},
   "outputs": [],
   "source": [
    "##Splitting dataset into train and test split\n",
    "train_size = len(df1) * 0.8\n",
    "test_size = len(df1) - train_size\n",
    "train_data,test_data=df1[0:int(train_size),:],df1[int(train_size):len(df1),:1]"
   ]
  },
  {
   "cell_type": "code",
   "execution_count": 89,
   "metadata": {},
   "outputs": [
    {
     "data": {
      "text/plain": [
       "(1628.0, 407.0)"
      ]
     },
     "execution_count": 89,
     "metadata": {},
     "output_type": "execute_result"
    }
   ],
   "source": [
    "train_size, test_size"
   ]
  },
  {
   "cell_type": "code",
   "execution_count": 90,
   "metadata": {},
   "outputs": [],
   "source": [
    "#Converting array of values into datasets\n",
    "def create_dataset(dataset,time_step = 1):\n",
    "    dataX, dataY = [], []\n",
    "    for i in range(len(dataset) - time_step - 1):\n",
    "        a = dataset[i:(i+time_step),0]\n",
    "        dataX.append(a)\n",
    "        dataY.append(dataset[i+time_step,0])\n",
    "    return np.array(dataX), np.array(dataY)"
   ]
  },
  {
   "cell_type": "code",
   "execution_count": 91,
   "metadata": {},
   "outputs": [],
   "source": [
    "#reshape in X= t,t+1,t+2,t+3 and Y = t+4\n",
    "time_step = 100\n",
    "X_train, y_train = create_dataset(train_data, time_step)\n",
    "X_test, y_test = create_dataset(test_data, time_step)"
   ]
  },
  {
   "cell_type": "code",
   "execution_count": 92,
   "metadata": {},
   "outputs": [
    {
     "name": "stdout",
     "output_type": "stream",
     "text": [
      "(1527, 100)\n",
      "(1527,)\n"
     ]
    }
   ],
   "source": [
    "print(X_train.shape)\n",
    "print(y_train.shape)"
   ]
  },
  {
   "cell_type": "code",
   "execution_count": 93,
   "metadata": {},
   "outputs": [],
   "source": [
    "#reshaping the data for the LSTM model .reshape(samples, time_steps, features)\n",
    "X_train =X_train.reshape(X_train.shape[0],X_train.shape[1] , 1)\n",
    "X_test = X_test.reshape(X_test.shape[0],X_test.shape[1] , 1)"
   ]
  },
  {
   "cell_type": "code",
   "execution_count": 94,
   "metadata": {},
   "outputs": [],
   "source": [
    "##Creating Stacked LSTM model\n",
    "from tensorflow.keras.models import Sequential\n",
    "from tensorflow.keras.layers import Dense\n",
    "from tensorflow.keras.layers import LSTM"
   ]
  },
  {
   "cell_type": "code",
   "execution_count": 95,
   "metadata": {},
   "outputs": [],
   "source": [
    "model=Sequential()\n",
    "model.add(LSTM(50,return_sequences=True,input_shape=(100,1)))\n",
    "model.add(LSTM(50,return_sequences=True))\n",
    "model.add(LSTM(50))\n",
    "model.add(Dense(1))\n",
    "model.compile(loss='mean_squared_error',optimizer='adam')"
   ]
  },
  {
   "cell_type": "code",
   "execution_count": 96,
   "metadata": {},
   "outputs": [
    {
     "name": "stdout",
     "output_type": "stream",
     "text": [
      "Model: \"sequential_6\"\n",
      "_________________________________________________________________\n",
      "Layer (type)                 Output Shape              Param #   \n",
      "=================================================================\n",
      "lstm_16 (LSTM)               (None, 100, 50)           10400     \n",
      "_________________________________________________________________\n",
      "lstm_17 (LSTM)               (None, 100, 50)           20200     \n",
      "_________________________________________________________________\n",
      "lstm_18 (LSTM)               (None, 50)                20200     \n",
      "_________________________________________________________________\n",
      "dense_5 (Dense)              (None, 1)                 51        \n",
      "=================================================================\n",
      "Total params: 50,851\n",
      "Trainable params: 50,851\n",
      "Non-trainable params: 0\n",
      "_________________________________________________________________\n"
     ]
    }
   ],
   "source": [
    "model.summary()"
   ]
  },
  {
   "cell_type": "code",
   "execution_count": 97,
   "metadata": {},
   "outputs": [
    {
     "name": "stdout",
     "output_type": "stream",
     "text": [
      "Epoch 1/100\n",
      "24/24 [==============================] - 43s 626ms/step - loss: 0.0112 - val_loss: 0.0338\n",
      "Epoch 2/100\n",
      "24/24 [==============================] - 7s 303ms/step - loss: 0.0014 - val_loss: 0.0057\n",
      "Epoch 3/100\n",
      "24/24 [==============================] - 7s 295ms/step - loss: 8.3251e-04 - val_loss: 0.0064\n",
      "Epoch 4/100\n",
      "24/24 [==============================] - 7s 307ms/step - loss: 8.5926e-04 - val_loss: 0.0057\n",
      "Epoch 5/100\n",
      "24/24 [==============================] - 7s 292ms/step - loss: 7.6240e-04 - val_loss: 0.0080\n",
      "Epoch 6/100\n",
      "24/24 [==============================] - 7s 286ms/step - loss: 8.7203e-04 - val_loss: 0.0059\n",
      "Epoch 7/100\n",
      "24/24 [==============================] - 7s 290ms/step - loss: 7.0295e-04 - val_loss: 0.0060\n",
      "Epoch 8/100\n",
      "24/24 [==============================] - 8s 320ms/step - loss: 6.4802e-04 - val_loss: 0.0030\n",
      "Epoch 9/100\n",
      "24/24 [==============================] - 8s 339ms/step - loss: 6.6051e-04 - val_loss: 0.0059\n",
      "Epoch 10/100\n",
      "24/24 [==============================] - 7s 305ms/step - loss: 6.0967e-04 - val_loss: 0.0068\n",
      "Epoch 11/100\n",
      "24/24 [==============================] - 8s 337ms/step - loss: 5.5182e-04 - val_loss: 0.0063\n",
      "Epoch 12/100\n",
      "24/24 [==============================] - 7s 312ms/step - loss: 6.6858e-04 - val_loss: 0.0066\n",
      "Epoch 13/100\n",
      "24/24 [==============================] - 8s 331ms/step - loss: 5.4264e-04 - val_loss: 0.0064\n",
      "Epoch 14/100\n",
      "24/24 [==============================] - 8s 327ms/step - loss: 4.9385e-04 - val_loss: 0.0063\n",
      "Epoch 15/100\n",
      "24/24 [==============================] - 9s 373ms/step - loss: 4.9342e-04 - val_loss: 0.0058\n",
      "Epoch 16/100\n",
      "24/24 [==============================] - 10s 413ms/step - loss: 4.5619e-04 - val_loss: 0.0065\n",
      "Epoch 17/100\n",
      "24/24 [==============================] - 9s 375ms/step - loss: 4.6406e-04 - val_loss: 0.0048\n",
      "Epoch 18/100\n",
      "24/24 [==============================] - 8s 353ms/step - loss: 4.5546e-04 - val_loss: 0.0079\n",
      "Epoch 19/100\n",
      "24/24 [==============================] - 9s 391ms/step - loss: 4.3254e-04 - val_loss: 0.0066\n",
      "Epoch 20/100\n",
      "24/24 [==============================] - 10s 420ms/step - loss: 4.1119e-04 - val_loss: 0.0081\n",
      "Epoch 21/100\n",
      "24/24 [==============================] - 8s 353ms/step - loss: 3.9584e-04 - val_loss: 0.0079\n",
      "Epoch 22/100\n",
      "24/24 [==============================] - 9s 357ms/step - loss: 3.9390e-04 - val_loss: 0.0074\n",
      "Epoch 23/100\n",
      "24/24 [==============================] - 8s 322ms/step - loss: 3.5379e-04 - val_loss: 0.0039\n",
      "Epoch 24/100\n",
      "24/24 [==============================] - 9s 372ms/step - loss: 3.5706e-04 - val_loss: 0.0040\n",
      "Epoch 25/100\n",
      "24/24 [==============================] - 10s 439ms/step - loss: 3.2797e-04 - val_loss: 0.0058\n",
      "Epoch 26/100\n",
      "24/24 [==============================] - 9s 367ms/step - loss: 3.2994e-04 - val_loss: 0.0047\n",
      "Epoch 27/100\n",
      "24/24 [==============================] - 9s 368ms/step - loss: 3.0617e-04 - val_loss: 0.0054\n",
      "Epoch 28/100\n",
      "24/24 [==============================] - 8s 336ms/step - loss: 3.1914e-04 - val_loss: 0.0019\n",
      "Epoch 29/100\n",
      "24/24 [==============================] - 9s 359ms/step - loss: 2.9590e-04 - val_loss: 0.0032\n",
      "Epoch 30/100\n",
      "24/24 [==============================] - 10s 405ms/step - loss: 2.9194e-04 - val_loss: 0.0057\n",
      "Epoch 31/100\n",
      "24/24 [==============================] - 8s 322ms/step - loss: 3.1589e-04 - val_loss: 0.0022\n",
      "Epoch 32/100\n",
      "24/24 [==============================] - 8s 345ms/step - loss: 2.5682e-04 - val_loss: 0.0022\n",
      "Epoch 33/100\n",
      "24/24 [==============================] - 10s 389ms/step - loss: 2.8379e-04 - val_loss: 0.0039\n",
      "Epoch 34/100\n",
      "24/24 [==============================] - 9s 388ms/step - loss: 2.7616e-04 - val_loss: 0.0021\n",
      "Epoch 35/100\n",
      "24/24 [==============================] - 9s 379ms/step - loss: 2.4673e-04 - val_loss: 0.0025\n",
      "Epoch 36/100\n",
      "24/24 [==============================] - 9s 364ms/step - loss: 2.2979e-04 - val_loss: 0.0024\n",
      "Epoch 37/100\n",
      "24/24 [==============================] - 9s 400ms/step - loss: 2.3506e-04 - val_loss: 0.0013\n",
      "Epoch 38/100\n",
      "24/24 [==============================] - 11s 457ms/step - loss: 2.2016e-04 - val_loss: 0.0022\n",
      "Epoch 39/100\n",
      "24/24 [==============================] - 11s 456ms/step - loss: 2.0717e-04 - val_loss: 0.0021\n",
      "Epoch 40/100\n",
      "24/24 [==============================] - 9s 379ms/step - loss: 2.2153e-04 - val_loss: 0.0015\n",
      "Epoch 41/100\n",
      "24/24 [==============================] - 9s 391ms/step - loss: 2.1942e-04 - val_loss: 0.0021\n",
      "Epoch 42/100\n",
      "24/24 [==============================] - 9s 387ms/step - loss: 1.9597e-04 - val_loss: 0.0030\n",
      "Epoch 43/100\n",
      "24/24 [==============================] - 9s 385ms/step - loss: 2.1825e-04 - val_loss: 0.0011\n",
      "Epoch 44/100\n",
      "24/24 [==============================] - 9s 380ms/step - loss: 1.8106e-04 - val_loss: 6.8240e-04\n",
      "Epoch 45/100\n",
      "24/24 [==============================] - 10s 398ms/step - loss: 2.3736e-04 - val_loss: 0.0024\n",
      "Epoch 46/100\n",
      "24/24 [==============================] - 9s 383ms/step - loss: 1.9023e-04 - val_loss: 0.0011\n",
      "Epoch 47/100\n",
      "24/24 [==============================] - 9s 382ms/step - loss: 1.8333e-04 - val_loss: 0.0012\n",
      "Epoch 48/100\n",
      "24/24 [==============================] - 10s 429ms/step - loss: 1.8590e-04 - val_loss: 0.0022\n",
      "Epoch 49/100\n",
      "24/24 [==============================] - 9s 374ms/step - loss: 2.0289e-04 - val_loss: 0.0020\n",
      "Epoch 50/100\n",
      "24/24 [==============================] - 9s 373ms/step - loss: 1.7943e-04 - val_loss: 8.7197e-04\n",
      "Epoch 51/100\n",
      "24/24 [==============================] - 14s 605ms/step - loss: 1.7093e-04 - val_loss: 0.0020\n",
      "Epoch 52/100\n",
      "24/24 [==============================] - 14s 563ms/step - loss: 1.6503e-04 - val_loss: 0.0011\n",
      "Epoch 53/100\n",
      "24/24 [==============================] - 17s 693ms/step - loss: 1.5324e-04 - val_loss: 0.0015\n",
      "Epoch 54/100\n",
      "24/24 [==============================] - 14s 603ms/step - loss: 1.4264e-04 - val_loss: 0.0034\n",
      "Epoch 55/100\n",
      "24/24 [==============================] - 14s 585ms/step - loss: 1.8159e-04 - val_loss: 9.8058e-04\n",
      "Epoch 56/100\n",
      "24/24 [==============================] - 14s 577ms/step - loss: 1.6407e-04 - val_loss: 0.0023\n",
      "Epoch 57/100\n",
      "24/24 [==============================] - 9s 356ms/step - loss: 1.4713e-04 - val_loss: 0.0015\n",
      "Epoch 58/100\n",
      "24/24 [==============================] - 11s 450ms/step - loss: 1.4590e-04 - val_loss: 0.0012\n",
      "Epoch 59/100\n",
      "24/24 [==============================] - 9s 377ms/step - loss: 1.5818e-04 - val_loss: 0.0032\n",
      "Epoch 60/100\n",
      "24/24 [==============================] - 9s 388ms/step - loss: 1.4539e-04 - val_loss: 0.0012\n",
      "Epoch 61/100\n",
      "24/24 [==============================] - 8s 354ms/step - loss: 1.7623e-04 - val_loss: 0.0011\n",
      "Epoch 62/100\n",
      "24/24 [==============================] - 8s 336ms/step - loss: 1.4072e-04 - val_loss: 0.0014\n",
      "Epoch 63/100\n",
      "24/24 [==============================] - 8s 331ms/step - loss: 1.4016e-04 - val_loss: 0.0013\n",
      "Epoch 64/100\n",
      "24/24 [==============================] - 9s 357ms/step - loss: 1.5275e-04 - val_loss: 9.2346e-04\n",
      "Epoch 65/100\n",
      "24/24 [==============================] - 10s 437ms/step - loss: 1.5387e-04 - val_loss: 9.0785e-04\n",
      "Epoch 66/100\n",
      "24/24 [==============================] - 13s 561ms/step - loss: 1.5125e-04 - val_loss: 0.0014\n",
      "Epoch 67/100\n",
      "24/24 [==============================] - 15s 620ms/step - loss: 1.3869e-04 - val_loss: 0.0026\n",
      "Epoch 68/100\n",
      "24/24 [==============================] - 15s 634ms/step - loss: 1.4770e-04 - val_loss: 0.0022\n",
      "Epoch 69/100\n",
      "24/24 [==============================] - 20s 864ms/step - loss: 1.6996e-04 - val_loss: 0.0021\n",
      "Epoch 70/100\n",
      "24/24 [==============================] - 11s 467ms/step - loss: 1.4389e-04 - val_loss: 0.0029\n",
      "Epoch 71/100\n",
      "24/24 [==============================] - 11s 451ms/step - loss: 1.3960e-04 - val_loss: 0.0032\n",
      "Epoch 72/100\n",
      "24/24 [==============================] - 11s 468ms/step - loss: 1.4556e-04 - val_loss: 0.0016\n",
      "Epoch 73/100\n",
      "24/24 [==============================] - 11s 451ms/step - loss: 1.4398e-04 - val_loss: 0.0016\n",
      "Epoch 74/100\n",
      "24/24 [==============================] - 10s 441ms/step - loss: 1.2909e-04 - val_loss: 0.0025\n",
      "Epoch 75/100\n",
      "24/24 [==============================] - 11s 463ms/step - loss: 1.4667e-04 - val_loss: 0.0017\n",
      "Epoch 76/100\n",
      "24/24 [==============================] - 9s 382ms/step - loss: 1.3247e-04 - val_loss: 0.0017\n",
      "Epoch 77/100\n",
      "24/24 [==============================] - 9s 365ms/step - loss: 1.2294e-04 - val_loss: 0.0022\n"
     ]
    },
    {
     "name": "stdout",
     "output_type": "stream",
     "text": [
      "Epoch 78/100\n",
      "24/24 [==============================] - 10s 420ms/step - loss: 1.2448e-04 - val_loss: 0.0016\n",
      "Epoch 79/100\n",
      "24/24 [==============================] - 15s 628ms/step - loss: 1.3139e-04 - val_loss: 0.0015\n",
      "Epoch 80/100\n",
      "24/24 [==============================] - 19s 799ms/step - loss: 1.4354e-04 - val_loss: 0.0022\n",
      "Epoch 81/100\n",
      "24/24 [==============================] - 20s 855ms/step - loss: 1.2625e-04 - val_loss: 0.0016\n",
      "Epoch 82/100\n",
      "24/24 [==============================] - 17s 705ms/step - loss: 1.2852e-04 - val_loss: 0.0025\n",
      "Epoch 83/100\n",
      "24/24 [==============================] - 11s 471ms/step - loss: 1.2328e-04 - val_loss: 0.0027\n",
      "Epoch 84/100\n",
      "24/24 [==============================] - 13s 534ms/step - loss: 1.2809e-04 - val_loss: 0.0024\n",
      "Epoch 85/100\n",
      "24/24 [==============================] - 28s 1s/step - loss: 1.2393e-04 - val_loss: 0.0037\n",
      "Epoch 86/100\n",
      "24/24 [==============================] - 12s 504ms/step - loss: 1.3947e-04 - val_loss: 0.0027\n",
      "Epoch 87/100\n",
      "24/24 [==============================] - 14s 576ms/step - loss: 1.2998e-04 - val_loss: 0.0026\n",
      "Epoch 88/100\n",
      "24/24 [==============================] - 7s 293ms/step - loss: 1.2756e-04 - val_loss: 0.0032\n",
      "Epoch 89/100\n",
      "24/24 [==============================] - 8s 330ms/step - loss: 1.2450e-04 - val_loss: 0.0022\n",
      "Epoch 90/100\n",
      "24/24 [==============================] - 8s 345ms/step - loss: 1.3909e-04 - val_loss: 0.0025\n",
      "Epoch 91/100\n",
      "24/24 [==============================] - 8s 329ms/step - loss: 1.3165e-04 - val_loss: 0.0020\n",
      "Epoch 92/100\n",
      "24/24 [==============================] - 8s 335ms/step - loss: 1.4820e-04 - val_loss: 0.0022\n",
      "Epoch 93/100\n",
      "24/24 [==============================] - 8s 345ms/step - loss: 1.3896e-04 - val_loss: 0.0017\n",
      "Epoch 94/100\n",
      "24/24 [==============================] - 11s 452ms/step - loss: 1.4690e-04 - val_loss: 0.0025\n",
      "Epoch 95/100\n",
      "24/24 [==============================] - 9s 378ms/step - loss: 1.3866e-04 - val_loss: 0.0020\n",
      "Epoch 96/100\n",
      "24/24 [==============================] - 14s 592ms/step - loss: 1.2291e-04 - val_loss: 0.0020\n",
      "Epoch 97/100\n",
      "24/24 [==============================] - 10s 426ms/step - loss: 1.1952e-04 - val_loss: 0.0026\n",
      "Epoch 98/100\n",
      "24/24 [==============================] - 9s 390ms/step - loss: 1.2371e-04 - val_loss: 0.0019\n",
      "Epoch 99/100\n",
      "24/24 [==============================] - 11s 438ms/step - loss: 1.2167e-04 - val_loss: 0.0020\n",
      "Epoch 100/100\n",
      "24/24 [==============================] - 9s 385ms/step - loss: 1.3334e-04 - val_loss: 0.0027\n"
     ]
    },
    {
     "data": {
      "text/plain": [
       "<tensorflow.python.keras.callbacks.History at 0x14ed16f33a0>"
      ]
     },
     "execution_count": 97,
     "metadata": {},
     "output_type": "execute_result"
    }
   ],
   "source": [
    "model.fit(X_train,y_train,validation_data=(X_test,y_test),epochs=100,batch_size=64,verbose=1)"
   ]
  },
  {
   "cell_type": "code",
   "execution_count": 98,
   "metadata": {},
   "outputs": [],
   "source": [
    "import tensorflow as tf "
   ]
  },
  {
   "cell_type": "code",
   "execution_count": 99,
   "metadata": {},
   "outputs": [],
   "source": [
    "train_predict = model.predict(X_train)\n",
    "test_predict = model.predict(X_test)"
   ]
  },
  {
   "cell_type": "code",
   "execution_count": 100,
   "metadata": {},
   "outputs": [],
   "source": [
    "#converting back to original form\n",
    "train_predict = scaler.inverse_transform(train_predict)\n",
    "test_predict = scaler.inverse_transform(test_predict)"
   ]
  },
  {
   "cell_type": "code",
   "execution_count": 102,
   "metadata": {},
   "outputs": [
    {
     "data": {
      "text/plain": [
       "133.7253061107859"
      ]
     },
     "execution_count": 102,
     "metadata": {},
     "output_type": "execute_result"
    }
   ],
   "source": [
    "import math\n",
    "from sklearn.metrics import mean_squared_error\n",
    "math.sqrt(mean_squared_error(y_train, train_predict))"
   ]
  },
  {
   "cell_type": "code",
   "execution_count": 103,
   "metadata": {},
   "outputs": [
    {
     "data": {
      "text/plain": [
       "241.20530717721493"
      ]
     },
     "execution_count": 103,
     "metadata": {},
     "output_type": "execute_result"
    }
   ],
   "source": [
    "math.sqrt(mean_squared_error(y_test, test_predict))"
   ]
  },
  {
   "cell_type": "code",
   "execution_count": 104,
   "metadata": {},
   "outputs": [
    {
     "data": {
      "text/plain": [
       "[<matplotlib.lines.Line2D at 0x14edf46c370>]"
      ]
     },
     "execution_count": 104,
     "metadata": {},
     "output_type": "execute_result"
    },
    {
     "data": {
      "image/png": "[encoded data removed]",
      "text/plain": [
       "<Figure size 432x288 with 1 Axes>"
      ]
     },
     "metadata": {
      "needs_background": "light"
     },
     "output_type": "display_data"
    }
   ],
   "source": [
    "#Shifiting train predictions for plotting\n",
    "look_back = 100\n",
    "trainPredictPlot = np.empty_like(df1)\n",
    "trainPredictPlot[:,:] = np.nan\n",
    "trainPredictPlot[look_back :len(train_predict)+ look_back,:] = train_predict\n",
    "\n",
    "#shifting test predictions for plotting\n",
    "testPredictPlot = np.empty_like(df1)\n",
    "testPredictPlot[:,:] = np.nan\n",
    "testPredictPlot[len(train_predict)+(look_back * 2)+1:len(df1)-1, :] = test_predict\n",
    "\n",
    "#plot baseline and predictions\n",
    "plt.plot(scaler.inverse_transform(df1))\n",
    "plt.plot(trainPredictPlot)\n",
    "plt.plot(testPredictPlot)"
   ]
  },
  {
   "cell_type": "code",
   "execution_count": 105,
   "metadata": {},
   "outputs": [
    {
     "data": {
      "text/plain": [
       "407"
      ]
     },
     "execution_count": 105,
     "metadata": {},
     "output_type": "execute_result"
    }
   ],
   "source": [
    "len(test_data)"
   ]
  },
  {
   "cell_type": "code",
   "execution_count": 107,
   "metadata": {},
   "outputs": [
    {
     "data": {
      "text/plain": [
       "(1, 100)"
      ]
     },
     "execution_count": 107,
     "metadata": {},
     "output_type": "execute_result"
    }
   ],
   "source": [
    "x_input = test_data[307:].reshape(1,-1)\n",
    "x_input.shape"
   ]
  },
  {
   "cell_type": "code",
   "execution_count": 108,
   "metadata": {},
   "outputs": [],
   "source": [
    "temp_input = list(x_input)\n",
    "temp_input = temp_input[0].tolist()"
   ]
  },
  {
   "cell_type": "code",
   "execution_count": 109,
   "metadata": {},
   "outputs": [
    {
     "data": {
      "text/plain": [
       "[0.8527369281045751,\n",
       " 0.8621323529411764,\n",
       " 0.8345588235294117,\n",
       " 0.84375,\n",
       " 0.7146650326797386,\n",
       " 0.6605392156862745,\n",
       " 0.6542075163398693,\n",
       " 0.6803513071895424,\n",
       " 0.6689133986928104,\n",
       " 0.6642156862745099,\n",
       " 0.678921568627451,\n",
       " 0.6913807189542482,\n",
       " 0.7089460784313726,\n",
       " 0.7226307189542485,\n",
       " 0.7340686274509802,\n",
       " 0.7212009803921569,\n",
       " 0.749795751633987,\n",
       " 0.7689950980392157,\n",
       " 0.7446895424836601,\n",
       " 0.7120098039215685,\n",
       " 0.7467320261437909,\n",
       " 0.7549019607843137,\n",
       " 0.7604166666666667,\n",
       " 0.7598039215686274,\n",
       " 0.7465277777777777,\n",
       " 0.7624591503267975,\n",
       " 0.7706290849673203,\n",
       " 0.8041258169934642,\n",
       " 0.7810457516339868,\n",
       " 0.7941176470588236,\n",
       " 0.7602124183006536,\n",
       " 0.7348856209150327,\n",
       " 0.7240604575163399,\n",
       " 0.7399918300653596,\n",
       " 0.749795751633987,\n",
       " 0.7614379084967322,\n",
       " 0.7542892156862746,\n",
       " 0.7475490196078431,\n",
       " 0.769607843137255,\n",
       " 0.7495915032679739,\n",
       " 0.8171977124183007,\n",
       " 0.8020833333333335,\n",
       " 0.7773692810457518,\n",
       " 0.7571486928104576,\n",
       " 0.7937091503267975,\n",
       " 0.7916666666666667,\n",
       " 0.7714460784313726,\n",
       " 0.7526552287581698,\n",
       " 0.7269199346405228,\n",
       " 0.6629901960784313,\n",
       " 0.6819852941176472,\n",
       " 0.6441993464052288,\n",
       " 0.6215277777777778,\n",
       " 0.6439950980392156,\n",
       " 0.6631944444444445,\n",
       " 0.6754493464052289,\n",
       " 0.6370506535947713,\n",
       " 0.6460375816993464,\n",
       " 0.6589052287581699,\n",
       " 0.6587009803921569,\n",
       " 0.6779003267973858,\n",
       " 0.6319444444444445,\n",
       " 0.6311274509803921,\n",
       " 0.627859477124183,\n",
       " 0.647671568627451,\n",
       " 0.6399101307189542,\n",
       " 0.6348039215686274,\n",
       " 0.6386846405228759,\n",
       " 0.6233660130718954,\n",
       " 0.627450980392157,\n",
       " 0.6397058823529412,\n",
       " 0.6470588235294118,\n",
       " 0.661968954248366,\n",
       " 0.6707516339869282,\n",
       " 0.6519607843137255,\n",
       " 0.6311274509803921,\n",
       " 0.6129493464052288,\n",
       " 0.6376633986928105,\n",
       " 0.6225490196078431,\n",
       " 0.627450980392157,\n",
       " 0.6333741830065359,\n",
       " 0.6264297385620916,\n",
       " 0.6362336601307189,\n",
       " 0.5831290849673202,\n",
       " 0.5778186274509804,\n",
       " 0.5723039215686275,\n",
       " 0.5800653594771241,\n",
       " 0.5761846405228758,\n",
       " 0.5516748366013072,\n",
       " 0.5788398692810458,\n",
       " 0.625,\n",
       " 0.6358251633986928,\n",
       " 0.6294934640522877,\n",
       " 0.6288807189542484,\n",
       " 0.6276552287581699,\n",
       " 0.6223447712418301,\n",
       " 0.6337826797385621,\n",
       " 0.6262254901960784,\n",
       " 0.622140522875817,\n",
       " 0.6241830065359477]"
      ]
     },
     "execution_count": 109,
     "metadata": {},
     "output_type": "execute_result"
    }
   ],
   "source": [
    "temp_input"
   ]
  },
  {
   "cell_type": "code",
   "execution_count": 111,
   "metadata": {},
   "outputs": [
    {
     "name": "stdout",
     "output_type": "stream",
     "text": [
      "[0.6029149]\n",
      "101\n",
      "1 day input [0.86213235 0.83455882 0.84375    0.71466503 0.66053922 0.65420752\n",
      " 0.68035131 0.6689134  0.66421569 0.67892157 0.69138072 0.70894608\n",
      " 0.72263072 0.73406863 0.72120098 0.74979575 0.7689951  0.74468954\n",
      " 0.7120098  0.74673203 0.75490196 0.76041667 0.75980392 0.74652778\n",
      " 0.76245915 0.77062908 0.80412582 0.78104575 0.79411765 0.76021242\n",
      " 0.73488562 0.72406046 0.73999183 0.74979575 0.76143791 0.75428922\n",
      " 0.74754902 0.76960784 0.7495915  0.81719771 0.80208333 0.77736928\n",
      " 0.75714869 0.79370915 0.79166667 0.77144608 0.75265523 0.72691993\n",
      " 0.6629902  0.68198529 0.64419935 0.62152778 0.6439951  0.66319444\n",
      " 0.67544935 0.63705065 0.64603758 0.65890523 0.65870098 0.67790033\n",
      " 0.63194444 0.63112745 0.62785948 0.64767157 0.63991013 0.63480392\n",
      " 0.63868464 0.62336601 0.62745098 0.63970588 0.64705882 0.66196895\n",
      " 0.67075163 0.65196078 0.63112745 0.61294935 0.6376634  0.62254902\n",
      " 0.62745098 0.63337418 0.62642974 0.63623366 0.58312908 0.57781863\n",
      " 0.57230392 0.58006536 0.57618464 0.55167484 0.57883987 0.625\n",
      " 0.63582516 0.62949346 0.62888072 0.62765523 0.62234477 0.63378268\n",
      " 0.62622549 0.62214052 0.62418301 0.60291493]\n",
      "1 day output [[0.56483036]]\n",
      "2 day input [0.83455882 0.84375    0.71466503 0.66053922 0.65420752 0.68035131\n",
      " 0.6689134  0.66421569 0.67892157 0.69138072 0.70894608 0.72263072\n",
      " 0.73406863 0.72120098 0.74979575 0.7689951  0.74468954 0.7120098\n",
      " 0.74673203 0.75490196 0.76041667 0.75980392 0.74652778 0.76245915\n",
      " 0.77062908 0.80412582 0.78104575 0.79411765 0.76021242 0.73488562\n",
      " 0.72406046 0.73999183 0.74979575 0.76143791 0.75428922 0.74754902\n",
      " 0.76960784 0.7495915  0.81719771 0.80208333 0.77736928 0.75714869\n",
      " 0.79370915 0.79166667 0.77144608 0.75265523 0.72691993 0.6629902\n",
      " 0.68198529 0.64419935 0.62152778 0.6439951  0.66319444 0.67544935\n",
      " 0.63705065 0.64603758 0.65890523 0.65870098 0.67790033 0.63194444\n",
      " 0.63112745 0.62785948 0.64767157 0.63991013 0.63480392 0.63868464\n",
      " 0.62336601 0.62745098 0.63970588 0.64705882 0.66196895 0.67075163\n",
      " 0.65196078 0.63112745 0.61294935 0.6376634  0.62254902 0.62745098\n",
      " 0.63337418 0.62642974 0.63623366 0.58312908 0.57781863 0.57230392\n",
      " 0.58006536 0.57618464 0.55167484 0.57883987 0.625      0.63582516\n",
      " 0.62949346 0.62888072 0.62765523 0.62234477 0.63378268 0.62622549\n",
      " 0.62214052 0.62418301 0.60291493 0.56483036]\n",
      "2 day output [[0.52876467]]\n",
      "3 day input [0.84375    0.71466503 0.66053922 0.65420752 0.68035131 0.6689134\n",
      " 0.66421569 0.67892157 0.69138072 0.70894608 0.72263072 0.73406863\n",
      " 0.72120098 0.74979575 0.7689951  0.74468954 0.7120098  0.74673203\n",
      " 0.75490196 0.76041667 0.75980392 0.74652778 0.76245915 0.77062908\n",
      " 0.80412582 0.78104575 0.79411765 0.76021242 0.73488562 0.72406046\n",
      " 0.73999183 0.74979575 0.76143791 0.75428922 0.74754902 0.76960784\n",
      " 0.7495915  0.81719771 0.80208333 0.77736928 0.75714869 0.79370915\n",
      " 0.79166667 0.77144608 0.75265523 0.72691993 0.6629902  0.68198529\n",
      " 0.64419935 0.62152778 0.6439951  0.66319444 0.67544935 0.63705065\n",
      " 0.64603758 0.65890523 0.65870098 0.67790033 0.63194444 0.63112745\n",
      " 0.62785948 0.64767157 0.63991013 0.63480392 0.63868464 0.62336601\n",
      " 0.62745098 0.63970588 0.64705882 0.66196895 0.67075163 0.65196078\n",
      " 0.63112745 0.61294935 0.6376634  0.62254902 0.62745098 0.63337418\n",
      " 0.62642974 0.63623366 0.58312908 0.57781863 0.57230392 0.58006536\n",
      " 0.57618464 0.55167484 0.57883987 0.625      0.63582516 0.62949346\n",
      " 0.62888072 0.62765523 0.62234477 0.63378268 0.62622549 0.62214052\n",
      " 0.62418301 0.60291493 0.56483036 0.52876467]\n",
      "3 day output [[0.50288296]]\n",
      "4 day input [0.71466503 0.66053922 0.65420752 0.68035131 0.6689134  0.66421569\n",
      " 0.67892157 0.69138072 0.70894608 0.72263072 0.73406863 0.72120098\n",
      " 0.74979575 0.7689951  0.74468954 0.7120098  0.74673203 0.75490196\n",
      " 0.76041667 0.75980392 0.74652778 0.76245915 0.77062908 0.80412582\n",
      " 0.78104575 0.79411765 0.76021242 0.73488562 0.72406046 0.73999183\n",
      " 0.74979575 0.76143791 0.75428922 0.74754902 0.76960784 0.7495915\n",
      " 0.81719771 0.80208333 0.77736928 0.75714869 0.79370915 0.79166667\n",
      " 0.77144608 0.75265523 0.72691993 0.6629902  0.68198529 0.64419935\n",
      " 0.62152778 0.6439951  0.66319444 0.67544935 0.63705065 0.64603758\n",
      " 0.65890523 0.65870098 0.67790033 0.63194444 0.63112745 0.62785948\n",
      " 0.64767157 0.63991013 0.63480392 0.63868464 0.62336601 0.62745098\n",
      " 0.63970588 0.64705882 0.66196895 0.67075163 0.65196078 0.63112745\n",
      " 0.61294935 0.6376634  0.62254902 0.62745098 0.63337418 0.62642974\n",
      " 0.63623366 0.58312908 0.57781863 0.57230392 0.58006536 0.57618464\n",
      " 0.55167484 0.57883987 0.625      0.63582516 0.62949346 0.62888072\n",
      " 0.62765523 0.62234477 0.63378268 0.62622549 0.62214052 0.62418301\n",
      " 0.60291493 0.56483036 0.52876467 0.50288296]\n",
      "4 day output [[0.48520598]]\n",
      "5 day input [0.66053922 0.65420752 0.68035131 0.6689134  0.66421569 0.67892157\n",
      " 0.69138072 0.70894608 0.72263072 0.73406863 0.72120098 0.74979575\n",
      " 0.7689951  0.74468954 0.7120098  0.74673203 0.75490196 0.76041667\n",
      " 0.75980392 0.74652778 0.76245915 0.77062908 0.80412582 0.78104575\n",
      " 0.79411765 0.76021242 0.73488562 0.72406046 0.73999183 0.74979575\n",
      " 0.76143791 0.75428922 0.74754902 0.76960784 0.7495915  0.81719771\n",
      " 0.80208333 0.77736928 0.75714869 0.79370915 0.79166667 0.77144608\n",
      " 0.75265523 0.72691993 0.6629902  0.68198529 0.64419935 0.62152778\n",
      " 0.6439951  0.66319444 0.67544935 0.63705065 0.64603758 0.65890523\n",
      " 0.65870098 0.67790033 0.63194444 0.63112745 0.62785948 0.64767157\n",
      " 0.63991013 0.63480392 0.63868464 0.62336601 0.62745098 0.63970588\n",
      " 0.64705882 0.66196895 0.67075163 0.65196078 0.63112745 0.61294935\n",
      " 0.6376634  0.62254902 0.62745098 0.63337418 0.62642974 0.63623366\n",
      " 0.58312908 0.57781863 0.57230392 0.58006536 0.57618464 0.55167484\n",
      " 0.57883987 0.625      0.63582516 0.62949346 0.62888072 0.62765523\n",
      " 0.62234477 0.63378268 0.62622549 0.62214052 0.62418301 0.60291493\n",
      " 0.56483036 0.52876467 0.50288296 0.48520598]\n",
      "5 day output [[0.47184443]]\n",
      "6 day input [0.65420752 0.68035131 0.6689134  0.66421569 0.67892157 0.69138072\n",
      " 0.70894608 0.72263072 0.73406863 0.72120098 0.74979575 0.7689951\n",
      " 0.74468954 0.7120098  0.74673203 0.75490196 0.76041667 0.75980392\n",
      " 0.74652778 0.76245915 0.77062908 0.80412582 0.78104575 0.79411765\n",
      " 0.76021242 0.73488562 0.72406046 0.73999183 0.74979575 0.76143791\n",
      " 0.75428922 0.74754902 0.76960784 0.7495915  0.81719771 0.80208333\n",
      " 0.77736928 0.75714869 0.79370915 0.79166667 0.77144608 0.75265523\n",
      " 0.72691993 0.6629902  0.68198529 0.64419935 0.62152778 0.6439951\n",
      " 0.66319444 0.67544935 0.63705065 0.64603758 0.65890523 0.65870098\n",
      " 0.67790033 0.63194444 0.63112745 0.62785948 0.64767157 0.63991013\n",
      " 0.63480392 0.63868464 0.62336601 0.62745098 0.63970588 0.64705882\n",
      " 0.66196895 0.67075163 0.65196078 0.63112745 0.61294935 0.6376634\n",
      " 0.62254902 0.62745098 0.63337418 0.62642974 0.63623366 0.58312908\n",
      " 0.57781863 0.57230392 0.58006536 0.57618464 0.55167484 0.57883987\n",
      " 0.625      0.63582516 0.62949346 0.62888072 0.62765523 0.62234477\n",
      " 0.63378268 0.62622549 0.62214052 0.62418301 0.60291493 0.56483036\n",
      " 0.52876467 0.50288296 0.48520598 0.47184443]\n",
      "6 day output [[0.46076313]]\n",
      "7 day input [0.68035131 0.6689134  0.66421569 0.67892157 0.69138072 0.70894608\n",
      " 0.72263072 0.73406863 0.72120098 0.74979575 0.7689951  0.74468954\n",
      " 0.7120098  0.74673203 0.75490196 0.76041667 0.75980392 0.74652778\n",
      " 0.76245915 0.77062908 0.80412582 0.78104575 0.79411765 0.76021242\n",
      " 0.73488562 0.72406046 0.73999183 0.74979575 0.76143791 0.75428922\n",
      " 0.74754902 0.76960784 0.7495915  0.81719771 0.80208333 0.77736928\n",
      " 0.75714869 0.79370915 0.79166667 0.77144608 0.75265523 0.72691993\n",
      " 0.6629902  0.68198529 0.64419935 0.62152778 0.6439951  0.66319444\n",
      " 0.67544935 0.63705065 0.64603758 0.65890523 0.65870098 0.67790033\n",
      " 0.63194444 0.63112745 0.62785948 0.64767157 0.63991013 0.63480392\n",
      " 0.63868464 0.62336601 0.62745098 0.63970588 0.64705882 0.66196895\n",
      " 0.67075163 0.65196078 0.63112745 0.61294935 0.6376634  0.62254902\n",
      " 0.62745098 0.63337418 0.62642974 0.63623366 0.58312908 0.57781863\n",
      " 0.57230392 0.58006536 0.57618464 0.55167484 0.57883987 0.625\n",
      " 0.63582516 0.62949346 0.62888072 0.62765523 0.62234477 0.63378268\n",
      " 0.62622549 0.62214052 0.62418301 0.60291493 0.56483036 0.52876467\n",
      " 0.50288296 0.48520598 0.47184443 0.46076313]\n",
      "7 day output [[0.45145303]]\n",
      "8 day input [0.6689134  0.66421569 0.67892157 0.69138072 0.70894608 0.72263072\n",
      " 0.73406863 0.72120098 0.74979575 0.7689951  0.74468954 0.7120098\n",
      " 0.74673203 0.75490196 0.76041667 0.75980392 0.74652778 0.76245915\n",
      " 0.77062908 0.80412582 0.78104575 0.79411765 0.76021242 0.73488562\n",
      " 0.72406046 0.73999183 0.74979575 0.76143791 0.75428922 0.74754902\n",
      " 0.76960784 0.7495915  0.81719771 0.80208333 0.77736928 0.75714869\n",
      " 0.79370915 0.79166667 0.77144608 0.75265523 0.72691993 0.6629902\n",
      " 0.68198529 0.64419935 0.62152778 0.6439951  0.66319444 0.67544935\n",
      " 0.63705065 0.64603758 0.65890523 0.65870098 0.67790033 0.63194444\n",
      " 0.63112745 0.62785948 0.64767157 0.63991013 0.63480392 0.63868464\n",
      " 0.62336601 0.62745098 0.63970588 0.64705882 0.66196895 0.67075163\n",
      " 0.65196078 0.63112745 0.61294935 0.6376634  0.62254902 0.62745098\n",
      " 0.63337418 0.62642974 0.63623366 0.58312908 0.57781863 0.57230392\n",
      " 0.58006536 0.57618464 0.55167484 0.57883987 0.625      0.63582516\n",
      " 0.62949346 0.62888072 0.62765523 0.62234477 0.63378268 0.62622549\n",
      " 0.62214052 0.62418301 0.60291493 0.56483036 0.52876467 0.50288296\n",
      " 0.48520598 0.47184443 0.46076313 0.45145303]\n",
      "8 day output [[0.44381073]]\n",
      "9 day input [0.66421569 0.67892157 0.69138072 0.70894608 0.72263072 0.73406863\n",
      " 0.72120098 0.74979575 0.7689951  0.74468954 0.7120098  0.74673203\n",
      " 0.75490196 0.76041667 0.75980392 0.74652778 0.76245915 0.77062908\n",
      " 0.80412582 0.78104575 0.79411765 0.76021242 0.73488562 0.72406046\n",
      " 0.73999183 0.74979575 0.76143791 0.75428922 0.74754902 0.76960784\n",
      " 0.7495915  0.81719771 0.80208333 0.77736928 0.75714869 0.79370915\n",
      " 0.79166667 0.77144608 0.75265523 0.72691993 0.6629902  0.68198529\n",
      " 0.64419935 0.62152778 0.6439951  0.66319444 0.67544935 0.63705065\n",
      " 0.64603758 0.65890523 0.65870098 0.67790033 0.63194444 0.63112745\n",
      " 0.62785948 0.64767157 0.63991013 0.63480392 0.63868464 0.62336601\n",
      " 0.62745098 0.63970588 0.64705882 0.66196895 0.67075163 0.65196078\n",
      " 0.63112745 0.61294935 0.6376634  0.62254902 0.62745098 0.63337418\n",
      " 0.62642974 0.63623366 0.58312908 0.57781863 0.57230392 0.58006536\n",
      " 0.57618464 0.55167484 0.57883987 0.625      0.63582516 0.62949346\n",
      " 0.62888072 0.62765523 0.62234477 0.63378268 0.62622549 0.62214052\n",
      " 0.62418301 0.60291493 0.56483036 0.52876467 0.50288296 0.48520598\n",
      " 0.47184443 0.46076313 0.45145303 0.44381073]\n"
     ]
    },
    {
     "name": "stdout",
     "output_type": "stream",
     "text": [
      "9 day output [[0.4376168]]\n",
      "10 day input [0.67892157 0.69138072 0.70894608 0.72263072 0.73406863 0.72120098\n",
      " 0.74979575 0.7689951  0.74468954 0.7120098  0.74673203 0.75490196\n",
      " 0.76041667 0.75980392 0.74652778 0.76245915 0.77062908 0.80412582\n",
      " 0.78104575 0.79411765 0.76021242 0.73488562 0.72406046 0.73999183\n",
      " 0.74979575 0.76143791 0.75428922 0.74754902 0.76960784 0.7495915\n",
      " 0.81719771 0.80208333 0.77736928 0.75714869 0.79370915 0.79166667\n",
      " 0.77144608 0.75265523 0.72691993 0.6629902  0.68198529 0.64419935\n",
      " 0.62152778 0.6439951  0.66319444 0.67544935 0.63705065 0.64603758\n",
      " 0.65890523 0.65870098 0.67790033 0.63194444 0.63112745 0.62785948\n",
      " 0.64767157 0.63991013 0.63480392 0.63868464 0.62336601 0.62745098\n",
      " 0.63970588 0.64705882 0.66196895 0.67075163 0.65196078 0.63112745\n",
      " 0.61294935 0.6376634  0.62254902 0.62745098 0.63337418 0.62642974\n",
      " 0.63623366 0.58312908 0.57781863 0.57230392 0.58006536 0.57618464\n",
      " 0.55167484 0.57883987 0.625      0.63582516 0.62949346 0.62888072\n",
      " 0.62765523 0.62234477 0.63378268 0.62622549 0.62214052 0.62418301\n",
      " 0.60291493 0.56483036 0.52876467 0.50288296 0.48520598 0.47184443\n",
      " 0.46076313 0.45145303 0.44381073 0.4376168 ]\n",
      "10 day output [[0.43251997]]\n",
      "11 day input [0.69138072 0.70894608 0.72263072 0.73406863 0.72120098 0.74979575\n",
      " 0.7689951  0.74468954 0.7120098  0.74673203 0.75490196 0.76041667\n",
      " 0.75980392 0.74652778 0.76245915 0.77062908 0.80412582 0.78104575\n",
      " 0.79411765 0.76021242 0.73488562 0.72406046 0.73999183 0.74979575\n",
      " 0.76143791 0.75428922 0.74754902 0.76960784 0.7495915  0.81719771\n",
      " 0.80208333 0.77736928 0.75714869 0.79370915 0.79166667 0.77144608\n",
      " 0.75265523 0.72691993 0.6629902  0.68198529 0.64419935 0.62152778\n",
      " 0.6439951  0.66319444 0.67544935 0.63705065 0.64603758 0.65890523\n",
      " 0.65870098 0.67790033 0.63194444 0.63112745 0.62785948 0.64767157\n",
      " 0.63991013 0.63480392 0.63868464 0.62336601 0.62745098 0.63970588\n",
      " 0.64705882 0.66196895 0.67075163 0.65196078 0.63112745 0.61294935\n",
      " 0.6376634  0.62254902 0.62745098 0.63337418 0.62642974 0.63623366\n",
      " 0.58312908 0.57781863 0.57230392 0.58006536 0.57618464 0.55167484\n",
      " 0.57883987 0.625      0.63582516 0.62949346 0.62888072 0.62765523\n",
      " 0.62234477 0.63378268 0.62622549 0.62214052 0.62418301 0.60291493\n",
      " 0.56483036 0.52876467 0.50288296 0.48520598 0.47184443 0.46076313\n",
      " 0.45145303 0.44381073 0.4376168  0.43251997]\n",
      "11 day output [[0.42815924]]\n",
      "12 day input [0.70894608 0.72263072 0.73406863 0.72120098 0.74979575 0.7689951\n",
      " 0.74468954 0.7120098  0.74673203 0.75490196 0.76041667 0.75980392\n",
      " 0.74652778 0.76245915 0.77062908 0.80412582 0.78104575 0.79411765\n",
      " 0.76021242 0.73488562 0.72406046 0.73999183 0.74979575 0.76143791\n",
      " 0.75428922 0.74754902 0.76960784 0.7495915  0.81719771 0.80208333\n",
      " 0.77736928 0.75714869 0.79370915 0.79166667 0.77144608 0.75265523\n",
      " 0.72691993 0.6629902  0.68198529 0.64419935 0.62152778 0.6439951\n",
      " 0.66319444 0.67544935 0.63705065 0.64603758 0.65890523 0.65870098\n",
      " 0.67790033 0.63194444 0.63112745 0.62785948 0.64767157 0.63991013\n",
      " 0.63480392 0.63868464 0.62336601 0.62745098 0.63970588 0.64705882\n",
      " 0.66196895 0.67075163 0.65196078 0.63112745 0.61294935 0.6376634\n",
      " 0.62254902 0.62745098 0.63337418 0.62642974 0.63623366 0.58312908\n",
      " 0.57781863 0.57230392 0.58006536 0.57618464 0.55167484 0.57883987\n",
      " 0.625      0.63582516 0.62949346 0.62888072 0.62765523 0.62234477\n",
      " 0.63378268 0.62622549 0.62214052 0.62418301 0.60291493 0.56483036\n",
      " 0.52876467 0.50288296 0.48520598 0.47184443 0.46076313 0.45145303\n",
      " 0.44381073 0.4376168  0.43251997 0.42815924]\n",
      "12 day output [[0.42424414]]\n",
      "13 day input [0.72263072 0.73406863 0.72120098 0.74979575 0.7689951  0.74468954\n",
      " 0.7120098  0.74673203 0.75490196 0.76041667 0.75980392 0.74652778\n",
      " 0.76245915 0.77062908 0.80412582 0.78104575 0.79411765 0.76021242\n",
      " 0.73488562 0.72406046 0.73999183 0.74979575 0.76143791 0.75428922\n",
      " 0.74754902 0.76960784 0.7495915  0.81719771 0.80208333 0.77736928\n",
      " 0.75714869 0.79370915 0.79166667 0.77144608 0.75265523 0.72691993\n",
      " 0.6629902  0.68198529 0.64419935 0.62152778 0.6439951  0.66319444\n",
      " 0.67544935 0.63705065 0.64603758 0.65890523 0.65870098 0.67790033\n",
      " 0.63194444 0.63112745 0.62785948 0.64767157 0.63991013 0.63480392\n",
      " 0.63868464 0.62336601 0.62745098 0.63970588 0.64705882 0.66196895\n",
      " 0.67075163 0.65196078 0.63112745 0.61294935 0.6376634  0.62254902\n",
      " 0.62745098 0.63337418 0.62642974 0.63623366 0.58312908 0.57781863\n",
      " 0.57230392 0.58006536 0.57618464 0.55167484 0.57883987 0.625\n",
      " 0.63582516 0.62949346 0.62888072 0.62765523 0.62234477 0.63378268\n",
      " 0.62622549 0.62214052 0.62418301 0.60291493 0.56483036 0.52876467\n",
      " 0.50288296 0.48520598 0.47184443 0.46076313 0.45145303 0.44381073\n",
      " 0.4376168  0.43251997 0.42815924 0.42424414]\n",
      "13 day output [[0.42057416]]\n",
      "14 day input [0.73406863 0.72120098 0.74979575 0.7689951  0.74468954 0.7120098\n",
      " 0.74673203 0.75490196 0.76041667 0.75980392 0.74652778 0.76245915\n",
      " 0.77062908 0.80412582 0.78104575 0.79411765 0.76021242 0.73488562\n",
      " 0.72406046 0.73999183 0.74979575 0.76143791 0.75428922 0.74754902\n",
      " 0.76960784 0.7495915  0.81719771 0.80208333 0.77736928 0.75714869\n",
      " 0.79370915 0.79166667 0.77144608 0.75265523 0.72691993 0.6629902\n",
      " 0.68198529 0.64419935 0.62152778 0.6439951  0.66319444 0.67544935\n",
      " 0.63705065 0.64603758 0.65890523 0.65870098 0.67790033 0.63194444\n",
      " 0.63112745 0.62785948 0.64767157 0.63991013 0.63480392 0.63868464\n",
      " 0.62336601 0.62745098 0.63970588 0.64705882 0.66196895 0.67075163\n",
      " 0.65196078 0.63112745 0.61294935 0.6376634  0.62254902 0.62745098\n",
      " 0.63337418 0.62642974 0.63623366 0.58312908 0.57781863 0.57230392\n",
      " 0.58006536 0.57618464 0.55167484 0.57883987 0.625      0.63582516\n",
      " 0.62949346 0.62888072 0.62765523 0.62234477 0.63378268 0.62622549\n",
      " 0.62214052 0.62418301 0.60291493 0.56483036 0.52876467 0.50288296\n",
      " 0.48520598 0.47184443 0.46076313 0.45145303 0.44381073 0.4376168\n",
      " 0.43251997 0.42815924 0.42424414 0.42057416]\n",
      "14 day output [[0.4170261]]\n",
      "15 day input [0.72120098 0.74979575 0.7689951  0.74468954 0.7120098  0.74673203\n",
      " 0.75490196 0.76041667 0.75980392 0.74652778 0.76245915 0.77062908\n",
      " 0.80412582 0.78104575 0.79411765 0.76021242 0.73488562 0.72406046\n",
      " 0.73999183 0.74979575 0.76143791 0.75428922 0.74754902 0.76960784\n",
      " 0.7495915  0.81719771 0.80208333 0.77736928 0.75714869 0.79370915\n",
      " 0.79166667 0.77144608 0.75265523 0.72691993 0.6629902  0.68198529\n",
      " 0.64419935 0.62152778 0.6439951  0.66319444 0.67544935 0.63705065\n",
      " 0.64603758 0.65890523 0.65870098 0.67790033 0.63194444 0.63112745\n",
      " 0.62785948 0.64767157 0.63991013 0.63480392 0.63868464 0.62336601\n",
      " 0.62745098 0.63970588 0.64705882 0.66196895 0.67075163 0.65196078\n",
      " 0.63112745 0.61294935 0.6376634  0.62254902 0.62745098 0.63337418\n",
      " 0.62642974 0.63623366 0.58312908 0.57781863 0.57230392 0.58006536\n",
      " 0.57618464 0.55167484 0.57883987 0.625      0.63582516 0.62949346\n",
      " 0.62888072 0.62765523 0.62234477 0.63378268 0.62622549 0.62214052\n",
      " 0.62418301 0.60291493 0.56483036 0.52876467 0.50288296 0.48520598\n",
      " 0.47184443 0.46076313 0.45145303 0.44381073 0.4376168  0.43251997\n",
      " 0.42815924 0.42424414 0.42057416 0.4170261 ]\n",
      "15 day output [[0.4135355]]\n",
      "16 day input [0.74979575 0.7689951  0.74468954 0.7120098  0.74673203 0.75490196\n",
      " 0.76041667 0.75980392 0.74652778 0.76245915 0.77062908 0.80412582\n",
      " 0.78104575 0.79411765 0.76021242 0.73488562 0.72406046 0.73999183\n",
      " 0.74979575 0.76143791 0.75428922 0.74754902 0.76960784 0.7495915\n",
      " 0.81719771 0.80208333 0.77736928 0.75714869 0.79370915 0.79166667\n",
      " 0.77144608 0.75265523 0.72691993 0.6629902  0.68198529 0.64419935\n",
      " 0.62152778 0.6439951  0.66319444 0.67544935 0.63705065 0.64603758\n",
      " 0.65890523 0.65870098 0.67790033 0.63194444 0.63112745 0.62785948\n",
      " 0.64767157 0.63991013 0.63480392 0.63868464 0.62336601 0.62745098\n",
      " 0.63970588 0.64705882 0.66196895 0.67075163 0.65196078 0.63112745\n",
      " 0.61294935 0.6376634  0.62254902 0.62745098 0.63337418 0.62642974\n",
      " 0.63623366 0.58312908 0.57781863 0.57230392 0.58006536 0.57618464\n",
      " 0.55167484 0.57883987 0.625      0.63582516 0.62949346 0.62888072\n",
      " 0.62765523 0.62234477 0.63378268 0.62622549 0.62214052 0.62418301\n",
      " 0.60291493 0.56483036 0.52876467 0.50288296 0.48520598 0.47184443\n",
      " 0.46076313 0.45145303 0.44381073 0.4376168  0.43251997 0.42815924\n",
      " 0.42424414 0.42057416 0.4170261  0.41353551]\n",
      "16 day output [[0.4100783]]\n",
      "17 day input [0.7689951  0.74468954 0.7120098  0.74673203 0.75490196 0.76041667\n",
      " 0.75980392 0.74652778 0.76245915 0.77062908 0.80412582 0.78104575\n",
      " 0.79411765 0.76021242 0.73488562 0.72406046 0.73999183 0.74979575\n",
      " 0.76143791 0.75428922 0.74754902 0.76960784 0.7495915  0.81719771\n",
      " 0.80208333 0.77736928 0.75714869 0.79370915 0.79166667 0.77144608\n",
      " 0.75265523 0.72691993 0.6629902  0.68198529 0.64419935 0.62152778\n",
      " 0.6439951  0.66319444 0.67544935 0.63705065 0.64603758 0.65890523\n",
      " 0.65870098 0.67790033 0.63194444 0.63112745 0.62785948 0.64767157\n",
      " 0.63991013 0.63480392 0.63868464 0.62336601 0.62745098 0.63970588\n",
      " 0.64705882 0.66196895 0.67075163 0.65196078 0.63112745 0.61294935\n",
      " 0.6376634  0.62254902 0.62745098 0.63337418 0.62642974 0.63623366\n",
      " 0.58312908 0.57781863 0.57230392 0.58006536 0.57618464 0.55167484\n",
      " 0.57883987 0.625      0.63582516 0.62949346 0.62888072 0.62765523\n",
      " 0.62234477 0.63378268 0.62622549 0.62214052 0.62418301 0.60291493\n",
      " 0.56483036 0.52876467 0.50288296 0.48520598 0.47184443 0.46076313\n",
      " 0.45145303 0.44381073 0.4376168  0.43251997 0.42815924 0.42424414\n",
      " 0.42057416 0.4170261  0.41353551 0.41007829]\n"
     ]
    },
    {
     "name": "stdout",
     "output_type": "stream",
     "text": [
      "17 day output [[0.40665758]]\n",
      "18 day input [0.74468954 0.7120098  0.74673203 0.75490196 0.76041667 0.75980392\n",
      " 0.74652778 0.76245915 0.77062908 0.80412582 0.78104575 0.79411765\n",
      " 0.76021242 0.73488562 0.72406046 0.73999183 0.74979575 0.76143791\n",
      " 0.75428922 0.74754902 0.76960784 0.7495915  0.81719771 0.80208333\n",
      " 0.77736928 0.75714869 0.79370915 0.79166667 0.77144608 0.75265523\n",
      " 0.72691993 0.6629902  0.68198529 0.64419935 0.62152778 0.6439951\n",
      " 0.66319444 0.67544935 0.63705065 0.64603758 0.65890523 0.65870098\n",
      " 0.67790033 0.63194444 0.63112745 0.62785948 0.64767157 0.63991013\n",
      " 0.63480392 0.63868464 0.62336601 0.62745098 0.63970588 0.64705882\n",
      " 0.66196895 0.67075163 0.65196078 0.63112745 0.61294935 0.6376634\n",
      " 0.62254902 0.62745098 0.63337418 0.62642974 0.63623366 0.58312908\n",
      " 0.57781863 0.57230392 0.58006536 0.57618464 0.55167484 0.57883987\n",
      " 0.625      0.63582516 0.62949346 0.62888072 0.62765523 0.62234477\n",
      " 0.63378268 0.62622549 0.62214052 0.62418301 0.60291493 0.56483036\n",
      " 0.52876467 0.50288296 0.48520598 0.47184443 0.46076313 0.45145303\n",
      " 0.44381073 0.4376168  0.43251997 0.42815924 0.42424414 0.42057416\n",
      " 0.4170261  0.41353551 0.41007829 0.40665758]\n",
      "18 day output [[0.4032924]]\n",
      "19 day input [0.7120098  0.74673203 0.75490196 0.76041667 0.75980392 0.74652778\n",
      " 0.76245915 0.77062908 0.80412582 0.78104575 0.79411765 0.76021242\n",
      " 0.73488562 0.72406046 0.73999183 0.74979575 0.76143791 0.75428922\n",
      " 0.74754902 0.76960784 0.7495915  0.81719771 0.80208333 0.77736928\n",
      " 0.75714869 0.79370915 0.79166667 0.77144608 0.75265523 0.72691993\n",
      " 0.6629902  0.68198529 0.64419935 0.62152778 0.6439951  0.66319444\n",
      " 0.67544935 0.63705065 0.64603758 0.65890523 0.65870098 0.67790033\n",
      " 0.63194444 0.63112745 0.62785948 0.64767157 0.63991013 0.63480392\n",
      " 0.63868464 0.62336601 0.62745098 0.63970588 0.64705882 0.66196895\n",
      " 0.67075163 0.65196078 0.63112745 0.61294935 0.6376634  0.62254902\n",
      " 0.62745098 0.63337418 0.62642974 0.63623366 0.58312908 0.57781863\n",
      " 0.57230392 0.58006536 0.57618464 0.55167484 0.57883987 0.625\n",
      " 0.63582516 0.62949346 0.62888072 0.62765523 0.62234477 0.63378268\n",
      " 0.62622549 0.62214052 0.62418301 0.60291493 0.56483036 0.52876467\n",
      " 0.50288296 0.48520598 0.47184443 0.46076313 0.45145303 0.44381073\n",
      " 0.4376168  0.43251997 0.42815924 0.42424414 0.42057416 0.4170261\n",
      " 0.41353551 0.41007829 0.40665758 0.40329239]\n",
      "19 day output [[0.40000919]]\n",
      "20 day input [0.74673203 0.75490196 0.76041667 0.75980392 0.74652778 0.76245915\n",
      " 0.77062908 0.80412582 0.78104575 0.79411765 0.76021242 0.73488562\n",
      " 0.72406046 0.73999183 0.74979575 0.76143791 0.75428922 0.74754902\n",
      " 0.76960784 0.7495915  0.81719771 0.80208333 0.77736928 0.75714869\n",
      " 0.79370915 0.79166667 0.77144608 0.75265523 0.72691993 0.6629902\n",
      " 0.68198529 0.64419935 0.62152778 0.6439951  0.66319444 0.67544935\n",
      " 0.63705065 0.64603758 0.65890523 0.65870098 0.67790033 0.63194444\n",
      " 0.63112745 0.62785948 0.64767157 0.63991013 0.63480392 0.63868464\n",
      " 0.62336601 0.62745098 0.63970588 0.64705882 0.66196895 0.67075163\n",
      " 0.65196078 0.63112745 0.61294935 0.6376634  0.62254902 0.62745098\n",
      " 0.63337418 0.62642974 0.63623366 0.58312908 0.57781863 0.57230392\n",
      " 0.58006536 0.57618464 0.55167484 0.57883987 0.625      0.63582516\n",
      " 0.62949346 0.62888072 0.62765523 0.62234477 0.63378268 0.62622549\n",
      " 0.62214052 0.62418301 0.60291493 0.56483036 0.52876467 0.50288296\n",
      " 0.48520598 0.47184443 0.46076313 0.45145303 0.44381073 0.4376168\n",
      " 0.43251997 0.42815924 0.42424414 0.42057416 0.4170261  0.41353551\n",
      " 0.41007829 0.40665758 0.40329239 0.40000919]\n",
      "20 day output [[0.39683607]]\n",
      "21 day input [0.75490196 0.76041667 0.75980392 0.74652778 0.76245915 0.77062908\n",
      " 0.80412582 0.78104575 0.79411765 0.76021242 0.73488562 0.72406046\n",
      " 0.73999183 0.74979575 0.76143791 0.75428922 0.74754902 0.76960784\n",
      " 0.7495915  0.81719771 0.80208333 0.77736928 0.75714869 0.79370915\n",
      " 0.79166667 0.77144608 0.75265523 0.72691993 0.6629902  0.68198529\n",
      " 0.64419935 0.62152778 0.6439951  0.66319444 0.67544935 0.63705065\n",
      " 0.64603758 0.65890523 0.65870098 0.67790033 0.63194444 0.63112745\n",
      " 0.62785948 0.64767157 0.63991013 0.63480392 0.63868464 0.62336601\n",
      " 0.62745098 0.63970588 0.64705882 0.66196895 0.67075163 0.65196078\n",
      " 0.63112745 0.61294935 0.6376634  0.62254902 0.62745098 0.63337418\n",
      " 0.62642974 0.63623366 0.58312908 0.57781863 0.57230392 0.58006536\n",
      " 0.57618464 0.55167484 0.57883987 0.625      0.63582516 0.62949346\n",
      " 0.62888072 0.62765523 0.62234477 0.63378268 0.62622549 0.62214052\n",
      " 0.62418301 0.60291493 0.56483036 0.52876467 0.50288296 0.48520598\n",
      " 0.47184443 0.46076313 0.45145303 0.44381073 0.4376168  0.43251997\n",
      " 0.42815924 0.42424414 0.42057416 0.4170261  0.41353551 0.41007829\n",
      " 0.40665758 0.40329239 0.40000919 0.39683607]\n",
      "21 day output [[0.39379779]]\n",
      "22 day input [0.76041667 0.75980392 0.74652778 0.76245915 0.77062908 0.80412582\n",
      " 0.78104575 0.79411765 0.76021242 0.73488562 0.72406046 0.73999183\n",
      " 0.74979575 0.76143791 0.75428922 0.74754902 0.76960784 0.7495915\n",
      " 0.81719771 0.80208333 0.77736928 0.75714869 0.79370915 0.79166667\n",
      " 0.77144608 0.75265523 0.72691993 0.6629902  0.68198529 0.64419935\n",
      " 0.62152778 0.6439951  0.66319444 0.67544935 0.63705065 0.64603758\n",
      " 0.65890523 0.65870098 0.67790033 0.63194444 0.63112745 0.62785948\n",
      " 0.64767157 0.63991013 0.63480392 0.63868464 0.62336601 0.62745098\n",
      " 0.63970588 0.64705882 0.66196895 0.67075163 0.65196078 0.63112745\n",
      " 0.61294935 0.6376634  0.62254902 0.62745098 0.63337418 0.62642974\n",
      " 0.63623366 0.58312908 0.57781863 0.57230392 0.58006536 0.57618464\n",
      " 0.55167484 0.57883987 0.625      0.63582516 0.62949346 0.62888072\n",
      " 0.62765523 0.62234477 0.63378268 0.62622549 0.62214052 0.62418301\n",
      " 0.60291493 0.56483036 0.52876467 0.50288296 0.48520598 0.47184443\n",
      " 0.46076313 0.45145303 0.44381073 0.4376168  0.43251997 0.42815924\n",
      " 0.42424414 0.42057416 0.4170261  0.41353551 0.41007829 0.40665758\n",
      " 0.40329239 0.40000919 0.39683607 0.39379779]\n",
      "22 day output [[0.39091358]]\n",
      "23 day input [0.75980392 0.74652778 0.76245915 0.77062908 0.80412582 0.78104575\n",
      " 0.79411765 0.76021242 0.73488562 0.72406046 0.73999183 0.74979575\n",
      " 0.76143791 0.75428922 0.74754902 0.76960784 0.7495915  0.81719771\n",
      " 0.80208333 0.77736928 0.75714869 0.79370915 0.79166667 0.77144608\n",
      " 0.75265523 0.72691993 0.6629902  0.68198529 0.64419935 0.62152778\n",
      " 0.6439951  0.66319444 0.67544935 0.63705065 0.64603758 0.65890523\n",
      " 0.65870098 0.67790033 0.63194444 0.63112745 0.62785948 0.64767157\n",
      " 0.63991013 0.63480392 0.63868464 0.62336601 0.62745098 0.63970588\n",
      " 0.64705882 0.66196895 0.67075163 0.65196078 0.63112745 0.61294935\n",
      " 0.6376634  0.62254902 0.62745098 0.63337418 0.62642974 0.63623366\n",
      " 0.58312908 0.57781863 0.57230392 0.58006536 0.57618464 0.55167484\n",
      " 0.57883987 0.625      0.63582516 0.62949346 0.62888072 0.62765523\n",
      " 0.62234477 0.63378268 0.62622549 0.62214052 0.62418301 0.60291493\n",
      " 0.56483036 0.52876467 0.50288296 0.48520598 0.47184443 0.46076313\n",
      " 0.45145303 0.44381073 0.4376168  0.43251997 0.42815924 0.42424414\n",
      " 0.42057416 0.4170261  0.41353551 0.41007829 0.40665758 0.40329239\n",
      " 0.40000919 0.39683607 0.39379779 0.39091358]\n",
      "23 day output [[0.38819528]]\n",
      "24 day input [0.74652778 0.76245915 0.77062908 0.80412582 0.78104575 0.79411765\n",
      " 0.76021242 0.73488562 0.72406046 0.73999183 0.74979575 0.76143791\n",
      " 0.75428922 0.74754902 0.76960784 0.7495915  0.81719771 0.80208333\n",
      " 0.77736928 0.75714869 0.79370915 0.79166667 0.77144608 0.75265523\n",
      " 0.72691993 0.6629902  0.68198529 0.64419935 0.62152778 0.6439951\n",
      " 0.66319444 0.67544935 0.63705065 0.64603758 0.65890523 0.65870098\n",
      " 0.67790033 0.63194444 0.63112745 0.62785948 0.64767157 0.63991013\n",
      " 0.63480392 0.63868464 0.62336601 0.62745098 0.63970588 0.64705882\n",
      " 0.66196895 0.67075163 0.65196078 0.63112745 0.61294935 0.6376634\n",
      " 0.62254902 0.62745098 0.63337418 0.62642974 0.63623366 0.58312908\n",
      " 0.57781863 0.57230392 0.58006536 0.57618464 0.55167484 0.57883987\n",
      " 0.625      0.63582516 0.62949346 0.62888072 0.62765523 0.62234477\n",
      " 0.63378268 0.62622549 0.62214052 0.62418301 0.60291493 0.56483036\n",
      " 0.52876467 0.50288296 0.48520598 0.47184443 0.46076313 0.45145303\n",
      " 0.44381073 0.4376168  0.43251997 0.42815924 0.42424414 0.42057416\n",
      " 0.4170261  0.41353551 0.41007829 0.40665758 0.40329239 0.40000919\n",
      " 0.39683607 0.39379779 0.39091358 0.38819528]\n",
      "24 day output [[0.38564795]]\n",
      "25 day input [0.76245915 0.77062908 0.80412582 0.78104575 0.79411765 0.76021242\n",
      " 0.73488562 0.72406046 0.73999183 0.74979575 0.76143791 0.75428922\n",
      " 0.74754902 0.76960784 0.7495915  0.81719771 0.80208333 0.77736928\n",
      " 0.75714869 0.79370915 0.79166667 0.77144608 0.75265523 0.72691993\n",
      " 0.6629902  0.68198529 0.64419935 0.62152778 0.6439951  0.66319444\n",
      " 0.67544935 0.63705065 0.64603758 0.65890523 0.65870098 0.67790033\n",
      " 0.63194444 0.63112745 0.62785948 0.64767157 0.63991013 0.63480392\n",
      " 0.63868464 0.62336601 0.62745098 0.63970588 0.64705882 0.66196895\n",
      " 0.67075163 0.65196078 0.63112745 0.61294935 0.6376634  0.62254902\n",
      " 0.62745098 0.63337418 0.62642974 0.63623366 0.58312908 0.57781863\n",
      " 0.57230392 0.58006536 0.57618464 0.55167484 0.57883987 0.625\n",
      " 0.63582516 0.62949346 0.62888072 0.62765523 0.62234477 0.63378268\n",
      " 0.62622549 0.62214052 0.62418301 0.60291493 0.56483036 0.52876467\n",
      " 0.50288296 0.48520598 0.47184443 0.46076313 0.45145303 0.44381073\n",
      " 0.4376168  0.43251997 0.42815924 0.42424414 0.42057416 0.4170261\n",
      " 0.41353551 0.41007829 0.40665758 0.40329239 0.40000919 0.39683607\n",
      " 0.39379779 0.39091358 0.38819528 0.38564795]\n"
     ]
    },
    {
     "name": "stdout",
     "output_type": "stream",
     "text": [
      "25 day output [[0.38326955]]\n",
      "26 day input [0.77062908 0.80412582 0.78104575 0.79411765 0.76021242 0.73488562\n",
      " 0.72406046 0.73999183 0.74979575 0.76143791 0.75428922 0.74754902\n",
      " 0.76960784 0.7495915  0.81719771 0.80208333 0.77736928 0.75714869\n",
      " 0.79370915 0.79166667 0.77144608 0.75265523 0.72691993 0.6629902\n",
      " 0.68198529 0.64419935 0.62152778 0.6439951  0.66319444 0.67544935\n",
      " 0.63705065 0.64603758 0.65890523 0.65870098 0.67790033 0.63194444\n",
      " 0.63112745 0.62785948 0.64767157 0.63991013 0.63480392 0.63868464\n",
      " 0.62336601 0.62745098 0.63970588 0.64705882 0.66196895 0.67075163\n",
      " 0.65196078 0.63112745 0.61294935 0.6376634  0.62254902 0.62745098\n",
      " 0.63337418 0.62642974 0.63623366 0.58312908 0.57781863 0.57230392\n",
      " 0.58006536 0.57618464 0.55167484 0.57883987 0.625      0.63582516\n",
      " 0.62949346 0.62888072 0.62765523 0.62234477 0.63378268 0.62622549\n",
      " 0.62214052 0.62418301 0.60291493 0.56483036 0.52876467 0.50288296\n",
      " 0.48520598 0.47184443 0.46076313 0.45145303 0.44381073 0.4376168\n",
      " 0.43251997 0.42815924 0.42424414 0.42057416 0.4170261  0.41353551\n",
      " 0.41007829 0.40665758 0.40329239 0.40000919 0.39683607 0.39379779\n",
      " 0.39091358 0.38819528 0.38564795 0.38326955]\n",
      "26 day output [[0.3810527]]\n",
      "27 day input [0.80412582 0.78104575 0.79411765 0.76021242 0.73488562 0.72406046\n",
      " 0.73999183 0.74979575 0.76143791 0.75428922 0.74754902 0.76960784\n",
      " 0.7495915  0.81719771 0.80208333 0.77736928 0.75714869 0.79370915\n",
      " 0.79166667 0.77144608 0.75265523 0.72691993 0.6629902  0.68198529\n",
      " 0.64419935 0.62152778 0.6439951  0.66319444 0.67544935 0.63705065\n",
      " 0.64603758 0.65890523 0.65870098 0.67790033 0.63194444 0.63112745\n",
      " 0.62785948 0.64767157 0.63991013 0.63480392 0.63868464 0.62336601\n",
      " 0.62745098 0.63970588 0.64705882 0.66196895 0.67075163 0.65196078\n",
      " 0.63112745 0.61294935 0.6376634  0.62254902 0.62745098 0.63337418\n",
      " 0.62642974 0.63623366 0.58312908 0.57781863 0.57230392 0.58006536\n",
      " 0.57618464 0.55167484 0.57883987 0.625      0.63582516 0.62949346\n",
      " 0.62888072 0.62765523 0.62234477 0.63378268 0.62622549 0.62214052\n",
      " 0.62418301 0.60291493 0.56483036 0.52876467 0.50288296 0.48520598\n",
      " 0.47184443 0.46076313 0.45145303 0.44381073 0.4376168  0.43251997\n",
      " 0.42815924 0.42424414 0.42057416 0.4170261  0.41353551 0.41007829\n",
      " 0.40665758 0.40329239 0.40000919 0.39683607 0.39379779 0.39091358\n",
      " 0.38819528 0.38564795 0.38326955 0.3810527 ]\n",
      "27 day output [[0.37898576]]\n",
      "28 day input [0.78104575 0.79411765 0.76021242 0.73488562 0.72406046 0.73999183\n",
      " 0.74979575 0.76143791 0.75428922 0.74754902 0.76960784 0.7495915\n",
      " 0.81719771 0.80208333 0.77736928 0.75714869 0.79370915 0.79166667\n",
      " 0.77144608 0.75265523 0.72691993 0.6629902  0.68198529 0.64419935\n",
      " 0.62152778 0.6439951  0.66319444 0.67544935 0.63705065 0.64603758\n",
      " 0.65890523 0.65870098 0.67790033 0.63194444 0.63112745 0.62785948\n",
      " 0.64767157 0.63991013 0.63480392 0.63868464 0.62336601 0.62745098\n",
      " 0.63970588 0.64705882 0.66196895 0.67075163 0.65196078 0.63112745\n",
      " 0.61294935 0.6376634  0.62254902 0.62745098 0.63337418 0.62642974\n",
      " 0.63623366 0.58312908 0.57781863 0.57230392 0.58006536 0.57618464\n",
      " 0.55167484 0.57883987 0.625      0.63582516 0.62949346 0.62888072\n",
      " 0.62765523 0.62234477 0.63378268 0.62622549 0.62214052 0.62418301\n",
      " 0.60291493 0.56483036 0.52876467 0.50288296 0.48520598 0.47184443\n",
      " 0.46076313 0.45145303 0.44381073 0.4376168  0.43251997 0.42815924\n",
      " 0.42424414 0.42057416 0.4170261  0.41353551 0.41007829 0.40665758\n",
      " 0.40329239 0.40000919 0.39683607 0.39379779 0.39091358 0.38819528\n",
      " 0.38564795 0.38326955 0.3810527  0.37898576]\n",
      "28 day output [[0.3770544]]\n",
      "29 day input [0.79411765 0.76021242 0.73488562 0.72406046 0.73999183 0.74979575\n",
      " 0.76143791 0.75428922 0.74754902 0.76960784 0.7495915  0.81719771\n",
      " 0.80208333 0.77736928 0.75714869 0.79370915 0.79166667 0.77144608\n",
      " 0.75265523 0.72691993 0.6629902  0.68198529 0.64419935 0.62152778\n",
      " 0.6439951  0.66319444 0.67544935 0.63705065 0.64603758 0.65890523\n",
      " 0.65870098 0.67790033 0.63194444 0.63112745 0.62785948 0.64767157\n",
      " 0.63991013 0.63480392 0.63868464 0.62336601 0.62745098 0.63970588\n",
      " 0.64705882 0.66196895 0.67075163 0.65196078 0.63112745 0.61294935\n",
      " 0.6376634  0.62254902 0.62745098 0.63337418 0.62642974 0.63623366\n",
      " 0.58312908 0.57781863 0.57230392 0.58006536 0.57618464 0.55167484\n",
      " 0.57883987 0.625      0.63582516 0.62949346 0.62888072 0.62765523\n",
      " 0.62234477 0.63378268 0.62622549 0.62214052 0.62418301 0.60291493\n",
      " 0.56483036 0.52876467 0.50288296 0.48520598 0.47184443 0.46076313\n",
      " 0.45145303 0.44381073 0.4376168  0.43251997 0.42815924 0.42424414\n",
      " 0.42057416 0.4170261  0.41353551 0.41007829 0.40665758 0.40329239\n",
      " 0.40000919 0.39683607 0.39379779 0.39091358 0.38819528 0.38564795\n",
      " 0.38326955 0.3810527  0.37898576 0.37705439]\n",
      "29 day output [[0.375243]]\n",
      "[[0.6029149293899536], [0.5648303627967834], [0.5287646651268005], [0.5028829574584961], [0.4852059781551361], [0.4718444347381592], [0.4607631266117096], [0.4514530301094055], [0.44381073117256165], [0.4376167953014374], [0.43251997232437134], [0.428159236907959], [0.42424413561820984], [0.4205741584300995], [0.4170261025428772], [0.4135355055332184], [0.4100782871246338], [0.4066575765609741], [0.40329238772392273], [0.4000091850757599], [0.3968360722064972], [0.39379778504371643], [0.39091357588768005], [0.388195276260376], [0.3856479525566101], [0.3832695484161377], [0.381052702665329], [0.37898576259613037], [0.3770543932914734], [0.37524300813674927]]\n"
     ]
    }
   ],
   "source": [
    "#demonstrate prediction for the next 30 days\n",
    "from numpy import array\n",
    "lst_output = []\n",
    "n_steps = 100\n",
    "i = 0\n",
    "while i < 30:\n",
    "    if len(temp_input) > 100:\n",
    "        x_input = np.array(temp_input[1:])\n",
    "        print('{} day input {}'.format(i,x_input))\n",
    "        x_input = x_input.reshape(1,-1)\n",
    "        x_input = x_input.reshape(1,n_steps,1)\n",
    "        yhat = model.predict(x_input, verbose = 0)\n",
    "        print('{} day output {}'.format(i, yhat))\n",
    "        temp_input.extend(yhat[0].tolist())\n",
    "        temp_input = temp_input[1:]\n",
    "        lst_output.extend(yhat.tolist())\n",
    "        i += 1\n",
    "    else:\n",
    "        x_input = x_input.reshape(1,n_steps,1)\n",
    "        yhat = model.predict(x_input,verbose = 0)\n",
    "        print(yhat[0])\n",
    "        temp_input.extend(yhat[0].tolist())\n",
    "        print(len(temp_input))\n",
    "        lst_output.extend(yhat.tolist())\n",
    "        i += 1\n",
    "        \n",
    "print(lst_output)"
   ]
  },
  {
   "cell_type": "code",
   "execution_count": 113,
   "metadata": {},
   "outputs": [],
   "source": [
    "day_new = np.arange(1,101)\n",
    "day_pred = np.arange(101,131)"
   ]
  },
  {
   "cell_type": "code",
   "execution_count": 114,
   "metadata": {},
   "outputs": [
    {
     "data": {
      "text/plain": [
       "2035"
      ]
     },
     "execution_count": 114,
     "metadata": {},
     "output_type": "execute_result"
    }
   ],
   "source": [
    "len(df1)"
   ]
  },
  {
   "cell_type": "code",
   "execution_count": 115,
   "metadata": {},
   "outputs": [
    {
     "data": {
      "text/plain": [
       "[<matplotlib.lines.Line2D at 0x14ee15a15e0>]"
      ]
     },
     "execution_count": 115,
     "metadata": {},
     "output_type": "execute_result"
    },
    {
     "data": {
      "image/png": "[encoded data removed]",
      "text/plain": [
       "<Figure size 432x288 with 1 Axes>"
      ]
     },
     "metadata": {
      "needs_background": "light"
     },
     "output_type": "display_data"
    }
   ],
   "source": [
    "plt.plot(day_new,scaler.inverse_transform(df1[1935:]))\n",
    "plt.plot(day_pred,scaler.inverse_transform(lst_output))"
   ]
  },
  {
   "cell_type": "code",
   "execution_count": 116,
   "metadata": {},
   "outputs": [
    {
     "data": {
      "text/plain": [
       "[<matplotlib.lines.Line2D at 0x14ee1856130>]"
      ]
     },
     "execution_count": 116,
     "metadata": {},
     "output_type": "execute_result"
    },
    {
     "data": {
      "image/png": "[encoded data removed]",
      "text/plain": [
       "<Figure size 432x288 with 1 Axes>"
      ]
     },
     "metadata": {
      "needs_background": "light"
     },
     "output_type": "display_data"
    }
   ],
   "source": [
    "df3 = df1.tolist()\n",
    "df3.extend(lst_output)\n",
    "plt.plot(df3[2000:])"
   ]
  },
  {
   "cell_type": "code",
   "execution_count": 117,
   "metadata": {},
   "outputs": [],
   "source": [
    "df3 = scaler.inverse_transform(df3).tolist()"
   ]
  },
  {
   "cell_type": "code",
   "execution_count": 118,
   "metadata": {},
   "outputs": [
    {
     "data": {
      "text/plain": [
       "[<matplotlib.lines.Line2D at 0x14ee1813bb0>]"
      ]
     },
     "execution_count": 118,
     "metadata": {},
     "output_type": "execute_result"
    },
    {
     "data": {
      "image/png": "[encoded data removed]",
      "text/plain": [
       "<Figure size 432x288 with 1 Axes>"
      ]
     },
     "metadata": {
      "needs_background": "light"
     },
     "output_type": "display_data"
    }
   ],
   "source": [
    "plt.plot(df3)"
   ]
  }
 ],
 "metadata": {
  "kernelspec": {
   "display_name": "Python 3",
   "language": "python",
   "name": "python3"
  },
  "language_info": {
   "codemirror_mode": {
    "name": "ipython",
    "version": 3
   },
   "file_extension": ".py",
   "mimetype": "text/x-python",
   "name": "python",
   "nbconvert_exporter": "python",
   "pygments_lexer": "ipython3",
   "version": "3.8.5"
  }
 },
 "nbformat": 4,
 "nbformat_minor": 4
}
